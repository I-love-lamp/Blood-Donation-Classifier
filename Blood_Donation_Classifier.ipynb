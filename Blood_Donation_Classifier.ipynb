{
 "cells": [
  {
   "cell_type": "markdown",
   "id": "d3a5d17f",
   "metadata": {},
   "source": [
    "# Inspecting transfusion.data file\n",
    "A pictogram of a blood bag with blood donation written in it\n",
    "\n",
    "Blood transfusion saves lives - from replacing lost blood during major surgery or a serious injury to treating various illnesses and blood disorders. Ensuring that there's enough blood in supply whenever needed is a serious challenge for the health professionals. According to WebMD, \"about 5 million Americans need a blood transfusion every year\".\n",
    "\n",
    "Our dataset is from a mobile blood donation vehicle in Taiwan. The Blood Transfusion Service Center drives to different universities and collects blood as part of a blood drive. We want to predict whether or not a donor will give blood the next time the vehicle comes to campus.\n",
    "\n",
    "The data is stored in datasets/transfusion.data and it is structured according to RFMTC marketing model (a variation of RFM). We'll explore what that means later in this notebook. First, let's inspect the data."
   ]
  },
  {
   "cell_type": "code",
   "execution_count": 1,
   "id": "0772f2bf",
   "metadata": {},
   "outputs": [
    {
     "name": "stdout",
     "output_type": "stream",
     "text": [
      "Recency (months),Frequency (times),Monetary (c.c. blood),Time (months),\"whether he/she donated blood in March 2007\"\r",
      "\r\n",
      "2 ,50,12500,98 ,1\r",
      "\r\n",
      "0 ,13,3250,28 ,1\r",
      "\r\n",
      "1 ,16,4000,35 ,1\r",
      "\r\n",
      "2 ,20,5000,45 ,1\r",
      "\r\n"
     ]
    }
   ],
   "source": [
    "# Print out the first 5 lines from the transfusion.data file\n",
    "!head -5 data/transfusion.data"
   ]
  },
  {
   "cell_type": "code",
   "execution_count": 3,
   "id": "51a32eef",
   "metadata": {},
   "outputs": [
    {
     "data": {
      "text/html": [
       "<div>\n",
       "<style scoped>\n",
       "    .dataframe tbody tr th:only-of-type {\n",
       "        vertical-align: middle;\n",
       "    }\n",
       "\n",
       "    .dataframe tbody tr th {\n",
       "        vertical-align: top;\n",
       "    }\n",
       "\n",
       "    .dataframe thead th {\n",
       "        text-align: right;\n",
       "    }\n",
       "</style>\n",
       "<table border=\"1\" class=\"dataframe\">\n",
       "  <thead>\n",
       "    <tr style=\"text-align: right;\">\n",
       "      <th></th>\n",
       "      <th>Recency (months)</th>\n",
       "      <th>Frequency (times)</th>\n",
       "      <th>Monetary (c.c. blood)</th>\n",
       "      <th>Time (months)</th>\n",
       "      <th>whether he/she donated blood in March 2007</th>\n",
       "    </tr>\n",
       "  </thead>\n",
       "  <tbody>\n",
       "    <tr>\n",
       "      <th>0</th>\n",
       "      <td>2</td>\n",
       "      <td>50</td>\n",
       "      <td>12500</td>\n",
       "      <td>98</td>\n",
       "      <td>1</td>\n",
       "    </tr>\n",
       "    <tr>\n",
       "      <th>1</th>\n",
       "      <td>0</td>\n",
       "      <td>13</td>\n",
       "      <td>3250</td>\n",
       "      <td>28</td>\n",
       "      <td>1</td>\n",
       "    </tr>\n",
       "    <tr>\n",
       "      <th>2</th>\n",
       "      <td>1</td>\n",
       "      <td>16</td>\n",
       "      <td>4000</td>\n",
       "      <td>35</td>\n",
       "      <td>1</td>\n",
       "    </tr>\n",
       "    <tr>\n",
       "      <th>3</th>\n",
       "      <td>2</td>\n",
       "      <td>20</td>\n",
       "      <td>5000</td>\n",
       "      <td>45</td>\n",
       "      <td>1</td>\n",
       "    </tr>\n",
       "    <tr>\n",
       "      <th>4</th>\n",
       "      <td>1</td>\n",
       "      <td>24</td>\n",
       "      <td>6000</td>\n",
       "      <td>77</td>\n",
       "      <td>0</td>\n",
       "    </tr>\n",
       "  </tbody>\n",
       "</table>\n",
       "</div>"
      ],
      "text/plain": [
       "   Recency (months)  Frequency (times)  Monetary (c.c. blood)  Time (months)  \\\n",
       "0                 2                 50                  12500             98   \n",
       "1                 0                 13                   3250             28   \n",
       "2                 1                 16                   4000             35   \n",
       "3                 2                 20                   5000             45   \n",
       "4                 1                 24                   6000             77   \n",
       "\n",
       "   whether he/she donated blood in March 2007  \n",
       "0                                           1  \n",
       "1                                           1  \n",
       "2                                           1  \n",
       "3                                           1  \n",
       "4                                           0  "
      ]
     },
     "execution_count": 3,
     "metadata": {},
     "output_type": "execute_result"
    }
   ],
   "source": [
    "import pandas as pd\n",
    "import numpy as np\n",
    "\n",
    "# read the dataset (CSV formatted)\n",
    "transfusion = pd.read_csv('data/transfusion.data')\n",
    "transfusion.head()"
   ]
  },
  {
   "cell_type": "markdown",
   "id": "1cb0869c",
   "metadata": {},
   "source": [
    "# Inspecting transfusion DataFrame\n",
    "\n",
    "Model the data using a RFM evaluation for each donor. RFM stands for recency, frequency, monetary - a common marketing evaluation of customers. Customers in this instance are blood donors.\n",
    "RFMTC is a variation of the RFM model. Below is a description of what each column means in our dataset:\n",
    "\n",
    "* R (Recency - months since the last donation)\n",
    "* F (Frequency - total number of donation)\n",
    "* M (Monetary - total blood donated in c.c.)\n",
    "* T (Time - months since the first donation)\n",
    " - a binary variable representing whether he/she donated blood in March 2007 (1 stands for donating blood; 0 stands for not donating blood)\n",
    "\n",
    "It looks like every column in our DataFrame has the numeric type, which is exactly what we want when building a machine learning model. Let's verify our hypothesis.\n"
   ]
  },
  {
   "cell_type": "code",
   "execution_count": 3,
   "id": "b71560f7",
   "metadata": {},
   "outputs": [
    {
     "name": "stdout",
     "output_type": "stream",
     "text": [
      "<class 'pandas.core.frame.DataFrame'>\n",
      "RangeIndex: 748 entries, 0 to 747\n",
      "Data columns (total 5 columns):\n",
      " #   Column                                      Non-Null Count  Dtype\n",
      "---  ------                                      --------------  -----\n",
      " 0   Recency (months)                            748 non-null    int64\n",
      " 1   Frequency (times)                           748 non-null    int64\n",
      " 2   Monetary (c.c. blood)                       748 non-null    int64\n",
      " 3   Time (months)                               748 non-null    int64\n",
      " 4   whether he/she donated blood in March 2007  748 non-null    int64\n",
      "dtypes: int64(5)\n",
      "memory usage: 29.3 KB\n"
     ]
    }
   ],
   "source": [
    " # summarize the data set\n",
    "transfusion.info()"
   ]
  },
  {
   "cell_type": "markdown",
   "id": "e0394cff",
   "metadata": {},
   "source": [
    "# Create a target\n",
    "This notebook aims to predict if a donor will give blood. We can use column 4 ('whether he/she donated blood in March 2007') as the target column. "
   ]
  },
  {
   "cell_type": "code",
   "execution_count": 4,
   "id": "3c9f071e",
   "metadata": {},
   "outputs": [
    {
     "name": "stdout",
     "output_type": "stream",
     "text": [
      "<class 'pandas.core.frame.DataFrame'>\n",
      "RangeIndex: 748 entries, 0 to 747\n",
      "Data columns (total 5 columns):\n",
      " #   Column                 Non-Null Count  Dtype\n",
      "---  ------                 --------------  -----\n",
      " 0   Recency (months)       748 non-null    int64\n",
      " 1   Frequency (times)      748 non-null    int64\n",
      " 2   Monetary (c.c. blood)  748 non-null    int64\n",
      " 3   Time (months)          748 non-null    int64\n",
      " 4   Target                 748 non-null    int64\n",
      "dtypes: int64(5)\n",
      "memory usage: 29.3 KB\n"
     ]
    }
   ],
   "source": [
    "# rename the target column\n",
    "transfusion.rename(columns={'whether he/she donated blood in March 2007': 'Target'}, inplace=True)\n",
    "transfusion.info()"
   ]
  },
  {
   "cell_type": "markdown",
   "id": "7cb22cdc",
   "metadata": {},
   "source": [
    "# Checking target incidence\n",
    "Let's predict whether or not the same donor will give blood the next time the vehicle comes to campus. The model for this is a binary classifier, meaning that there are only 2 possible outcomes:\n",
    "\n",
    "* 0 - the donor will not give blood\n",
    "* 1 - the donor will give blood\n",
    "\n",
    "Target incidence is defined as the number of cases of each individual target value in a dataset. That is, how many 0s in the target column compared to how many 1s? Target incidence gives us an idea of how balanced (or imbalanced) is our dataset."
   ]
  },
  {
   "cell_type": "code",
   "execution_count": 5,
   "id": "6ba462e2",
   "metadata": {},
   "outputs": [
    {
     "name": "stdout",
     "output_type": "stream",
     "text": [
      "Followup donations:  0.238\n",
      "One off donations:  0.762\n"
     ]
    }
   ],
   "source": [
    "# target incidence proportions\n",
    "\n",
    "def incidence_rate(df):\n",
    "    '''\n",
    "        returns: incidence[0], incidence[1] \n",
    "    '''\n",
    "    return round(df.query('Target == 0').count().Target/len(df.Target), 3), round(df.query('Target == 1').count().Target/len(df.Target), 3) \n",
    "\n",
    "\n",
    "no_donation, donation = incidence_rate(transfusion) \n",
    "print(\"Followup donations: \", donation) \n",
    "print(\"One off donations: \", no_donation)"
   ]
  },
  {
   "cell_type": "markdown",
   "id": "2f241d56",
   "metadata": {},
   "source": [
    "It is not unexpected to see that one-off donations were three times more than for repeat donations."
   ]
  },
  {
   "cell_type": "markdown",
   "id": "c5bea6bf",
   "metadata": {},
   "source": [
    "# Splitting transfusion into train and test datasets\n",
    "Using SciKit Learn's train_test_split() method to split transfusion DataFrame.\n",
    "\n",
    "Target incidence informed us that in our dataset 0s appear 76% of the time. We want to keep the same structure in train and test datasets, i.e., both datasets must have 0 target incidence of 76%. This is achieved using the train_test_split() method from the scikit learn library - specifying the stratify parameter. In our case, we'll stratify on the target column."
   ]
  },
  {
   "cell_type": "code",
   "execution_count": 5,
   "id": "0801b4e6",
   "metadata": {},
   "outputs": [],
   "source": [
    "from sklearn.model_selection import train_test_split\n",
    "\n",
    "X = transfusion.drop(columns=['Target'])\n",
    "y = transfusion['Target']\n",
    "# Split transfusion DataFrame into\n",
    "# X_train, X_test, y_train and y_test datasets,\n",
    "# stratifying on the `target` column\n",
    "X_tpot_train, X_tpot_test, y_tpot_train, y_tpot_test = train_test_split(\n",
    "    X,\n",
    "    y,\n",
    "    test_size=0.25,\n",
    "    stratify=y,\n",
    "    random_state=42\n",
    ")"
   ]
  },
  {
   "cell_type": "markdown",
   "id": "48c58b0f",
   "metadata": {},
   "source": [
    "# Selecting the model using TPOT\n",
    "TPOT is a Python Automated Machine Learning tool that optimizes machine learning pipelines using genetic programming.\n",
    "\n",
    "TPOT Machine Learning Pipeline\n",
    "\n",
    "TPOT will automatically explore hundreds of possible pipelines to find the best one for our dataset. Note, the outcome of this search will be a scikit-learn pipeline, meaning it will include any pre-processing steps as well as the model.\n",
    "\n",
    "We are using TPOT to help us zero in on one model that we can then explore and optimize further."
   ]
  },
  {
   "cell_type": "code",
   "execution_count": 7,
   "id": "837d417a",
   "metadata": {},
   "outputs": [
    {
     "data": {
      "text/plain": [
       "TPOTClassifier(config_dict='TPOT light', generations=20, n_jobs=-1,\n",
       "               population_size=300, random_state=42, scoring='roc_auc')"
      ]
     },
     "execution_count": 7,
     "metadata": {},
     "output_type": "execute_result"
    }
   ],
   "source": [
    "from tpot import TPOTClassifier\n",
    "\n",
    "tpot = TPOTClassifier(\n",
    "        generations=20,\n",
    "        population_size=300,\n",
    "        scoring='roc_auc',\n",
    "        n_jobs=-1,\n",
    "        random_state=42,\n",
    "        config_dict='TPOT light'\n",
    ")\n",
    "\n",
    "tpot.fit(X_tpot_train, y_tpot_train)"
   ]
  },
  {
   "cell_type": "code",
   "execution_count": 11,
   "id": "6a8ab4f6",
   "metadata": {},
   "outputs": [
    {
     "ename": "NameError",
     "evalue": "name 'tpot' is not defined",
     "output_type": "error",
     "traceback": [
      "\u001b[0;31m---------------------------------------------------------------------------\u001b[0m",
      "\u001b[0;31mNameError\u001b[0m                                 Traceback (most recent call last)",
      "\u001b[0;32m/tmp/ipykernel_6570/1993166730.py\u001b[0m in \u001b[0;36m<module>\u001b[0;34m\u001b[0m\n\u001b[1;32m      1\u001b[0m \u001b[0;31m# Area Under Curve score for tpot model\u001b[0m\u001b[0;34m\u001b[0m\u001b[0;34m\u001b[0m\u001b[0m\n\u001b[1;32m      2\u001b[0m \u001b[0;32mfrom\u001b[0m \u001b[0msklearn\u001b[0m\u001b[0;34m.\u001b[0m\u001b[0mmetrics\u001b[0m \u001b[0;32mimport\u001b[0m \u001b[0mroc_auc_score\u001b[0m\u001b[0;34m\u001b[0m\u001b[0;34m\u001b[0m\u001b[0m\n\u001b[0;32m----> 3\u001b[0;31m \u001b[0mtpot_auc_score\u001b[0m \u001b[0;34m=\u001b[0m \u001b[0mroc_auc_score\u001b[0m\u001b[0;34m(\u001b[0m\u001b[0my_tpot_test\u001b[0m\u001b[0;34m,\u001b[0m \u001b[0mtpot\u001b[0m\u001b[0;34m.\u001b[0m\u001b[0mpredict_proba\u001b[0m\u001b[0;34m(\u001b[0m\u001b[0mX_tpot_test\u001b[0m\u001b[0;34m)\u001b[0m\u001b[0;34m[\u001b[0m\u001b[0;34m:\u001b[0m\u001b[0;34m,\u001b[0m \u001b[0;34m-\u001b[0m\u001b[0;36m1\u001b[0m\u001b[0;34m]\u001b[0m\u001b[0;34m)\u001b[0m\u001b[0;34m\u001b[0m\u001b[0;34m\u001b[0m\u001b[0m\n\u001b[0m\u001b[1;32m      4\u001b[0m \u001b[0mprint\u001b[0m\u001b[0;34m(\u001b[0m\u001b[0;34mf'\\nAUC score: {tpot_auc_score}'\u001b[0m\u001b[0;34m)\u001b[0m\u001b[0;34m\u001b[0m\u001b[0;34m\u001b[0m\u001b[0m\n",
      "\u001b[0;31mNameError\u001b[0m: name 'tpot' is not defined"
     ]
    }
   ],
   "source": [
    "# Area Under Curve score for tpot model\n",
    "from sklearn.metrics import roc_auc_score\n",
    "tpot_auc_score = roc_auc_score(y_tpot_test, tpot.predict_proba(X_tpot_test)[:, -1])\n",
    "print(f'\\nAUC score: {tpot_auc_score}')"
   ]
  },
  {
   "cell_type": "code",
   "execution_count": 9,
   "id": "d8d77a52",
   "metadata": {},
   "outputs": [
    {
     "name": "stdout",
     "output_type": "stream",
     "text": [
      "\n",
      "Best pipeline steps: \n",
      "1. MinMaxScaler()\n",
      "2. ZeroCount()\n",
      "3. StackingEstimator(estimator=MultinomialNB(alpha=10.0))\n",
      "4. MaxAbsScaler()\n",
      "5. LogisticRegression(C=15.0, random_state=42)\n"
     ]
    }
   ],
   "source": [
    "# Best pipeline steps\n",
    "print('\\nBest pipeline steps: ', end='\\n')\n",
    "for idx, (name, transform) in enumerate(tpot.fitted_pipeline_.steps, start=1):\n",
    "    print(f'{idx}. {transform}')"
   ]
  },
  {
   "cell_type": "markdown",
   "id": "74f9c359",
   "metadata": {},
   "source": [
    "# Manual model selection\n",
    "## Data preprocessing\n"
   ]
  },
  {
   "cell_type": "code",
   "execution_count": 6,
   "id": "fc9c1463",
   "metadata": {},
   "outputs": [],
   "source": [
    "from sklearn.preprocessing import StandardScaler\n",
    "\n",
    "# normalize the data\n",
    "scaler = StandardScaler()\n",
    "X_norm = scaler.fit_transform(transfusion.drop(columns=['Target']))\n",
    "\n",
    "# split test and train sets\n",
    "X_train, X_test, y_train, y_test = train_test_split(X_norm,\n",
    "                                                    y, \n",
    "                                                    test_size=0.25, \n",
    "                                                    stratify=y, \n",
    "                                                    random_state=42)"
   ]
  },
  {
   "cell_type": "code",
   "execution_count": 7,
   "id": "84f4e482",
   "metadata": {},
   "outputs": [
    {
     "data": {
      "text/plain": [
       "(561,)"
      ]
     },
     "execution_count": 7,
     "metadata": {},
     "output_type": "execute_result"
    }
   ],
   "source": [
    "y_train.shape"
   ]
  },
  {
   "cell_type": "markdown",
   "id": "e8856284",
   "metadata": {},
   "source": [
    "# Selecting model using a range of methods\n",
    "## feature importance"
   ]
  },
  {
   "cell_type": "code",
   "execution_count": 8,
   "id": "787d7a95",
   "metadata": {},
   "outputs": [
    {
     "name": "stdout",
     "output_type": "stream",
     "text": [
      "XGBClassifier(base_score=0.5, booster='gbtree', callbacks=None,\n",
      "              colsample_bylevel=1, colsample_bynode=1, colsample_bytree=1,\n",
      "              early_stopping_rounds=None, enable_categorical=False,\n",
      "              eval_metric=None, gamma=0, gpu_id=-1, grow_policy='depthwise',\n",
      "              importance_type=None, interaction_constraints='',\n",
      "              learning_rate=0.1, max_bin=256, max_cat_to_onehot=4,\n",
      "              max_delta_step=0, max_depth=6, max_leaves=0, min_child_weight=1,\n",
      "              missing=nan, monotone_constraints='()', n_estimators=150,\n",
      "              n_jobs=0, num_parallel_tree=1, predictor='auto', random_state=0,\n",
      "              reg_alpha=0, reg_lambda=1, ...)\n"
     ]
    },
    {
     "data": {
      "image/png": "[encoded data removed]",
      "text/plain": [
       "<Figure size 432x288 with 1 Axes>"
      ]
     },
     "metadata": {
      "needs_background": "light"
     },
     "output_type": "display_data"
    }
   ],
   "source": [
    "from sklearn.tree import DecisionTreeClassifier\n",
    "from sklearn.ensemble import RandomForestClassifier, AdaBoostClassifier, BaggingClassifier, GradientBoostingClassifier\n",
    "from sklearn.svm import SVC\n",
    "from xgboost import plot_importance, XGBClassifier\n",
    "\n",
    "model = XGBClassifier(n_estimators=150, learning_rate=0.1)\n",
    "model.fit(X_train, y_train)\n",
    "plot_importance(model)\n",
    "print(model)"
   ]
  },
  {
   "cell_type": "markdown",
   "id": "61758d3f",
   "metadata": {},
   "source": [
    "## Decision tree"
   ]
  },
  {
   "cell_type": "code",
   "execution_count": 9,
   "id": "b5c653fa",
   "metadata": {},
   "outputs": [
    {
     "name": "stdout",
     "output_type": "stream",
     "text": [
      "Decision tree classifier accuracy: 0.7486631016042781\n"
     ]
    }
   ],
   "source": [
    "# decision tree\n",
    "tree_clf = DecisionTreeClassifier(random_state=42, max_depth=5, criterion='entropy')\n",
    "tree_clf.fit(X_train, y_train)\n",
    "\n",
    "# score the model against test data set\n",
    "tree_clf_score = tree_clf.score(X_test, y_test)\n",
    "print(f'Decision tree classifier accuracy: {tree_clf_score}')"
   ]
  },
  {
   "cell_type": "code",
   "execution_count": 12,
   "id": "7c57f21f",
   "metadata": {},
   "outputs": [
    {
     "data": {
      "text/plain": [
       "array([[383,  44],\n",
       "       [ 65,  69]])"
      ]
     },
     "execution_count": 12,
     "metadata": {},
     "output_type": "execute_result"
    }
   ],
   "source": [
    "from sklearn.metrics import confusion_matrix\n",
    "import matplotlib.pyplot as plt\n",
    "\n",
    "\n",
    "def plot_conf_matrix(cm, classes, title, normalize=False):\n",
    "    plt.imshow(cm, interpolation='nearest')\n",
    "    plt.title(title)\n",
    "    plt.colorbar()\n",
    "    tick_marks = np.arange(len(classes))\n",
    "    plt.xticks(tick_marks, classes, rotation=0)\n",
    "    plt.yticks(tick_marks, classes)\n",
    "\n",
    "    if normalize:\n",
    "        cm = cm.astype('float') / cm.sum(axis=1)[:, np.newaxis]\n",
    "\n",
    "    thresh = cm.max() / 2.\n",
    "    for i, j in itertools.product(range(cm.shape[0]), range(cm.shape[1])):\n",
    "        plt.text(j, i, cm[i, j],\n",
    "                 horizontalalignment=\"center\",\n",
    "                 color=\"white\" if cm[i, j] > thresh else \"black\")\n",
    "\n",
    "    plt.tight_layout()\n",
    "    plt.ylabel('True label')\n",
    "    plt.xlabel('Predicted label')\n",
    "    \n",
    "# create confusion matrix\n",
    "y_predicted_train = tree_clf.predict(X_train)\n",
    "cm_train = confusion_matrix(y_train, y_predicted_train)\n",
    "auc_train = roc_auc_score(y_train, y_predicted_train)\n",
    "\n",
    "y_predicted_test = tree_clf.predict(X_test)\n",
    "cm_test = confusion_matrix(y_test, y_predicted_test)\n",
    "auc_train = roc_auc_score(y_test, y_predicted_test)\n",
    "\n",
    "cm_train"
   ]
  },
  {
   "cell_type": "code",
   "execution_count": 13,
   "id": "cb1d2da5",
   "metadata": {},
   "outputs": [
    {
     "ename": "NameError",
     "evalue": "name 'itertools' is not defined",
     "output_type": "error",
     "traceback": [
      "\u001b[0;31m---------------------------------------------------------------------------\u001b[0m",
      "\u001b[0;31mNameError\u001b[0m                                 Traceback (most recent call last)",
      "\u001b[0;32m/tmp/ipykernel_6570/272012280.py\u001b[0m in \u001b[0;36m<module>\u001b[0;34m\u001b[0m\n\u001b[1;32m      2\u001b[0m \u001b[0mplt\u001b[0m\u001b[0;34m.\u001b[0m\u001b[0mfigure\u001b[0m\u001b[0;34m(\u001b[0m\u001b[0mfigsize\u001b[0m\u001b[0;34m=\u001b[0m\u001b[0;34m(\u001b[0m\u001b[0;36m16\u001b[0m\u001b[0;34m,\u001b[0m\u001b[0;36m8\u001b[0m\u001b[0;34m)\u001b[0m\u001b[0;34m)\u001b[0m\u001b[0;34m\u001b[0m\u001b[0;34m\u001b[0m\u001b[0m\n\u001b[1;32m      3\u001b[0m \u001b[0mplt\u001b[0m\u001b[0;34m.\u001b[0m\u001b[0msubplot\u001b[0m\u001b[0;34m(\u001b[0m\u001b[0;36m1\u001b[0m\u001b[0;34m,\u001b[0m\u001b[0;36m2\u001b[0m\u001b[0;34m,\u001b[0m\u001b[0;36m1\u001b[0m\u001b[0;34m)\u001b[0m\u001b[0;34m\u001b[0m\u001b[0;34m\u001b[0m\u001b[0m\n\u001b[0;32m----> 4\u001b[0;31m \u001b[0mplot_conf_matrix\u001b[0m\u001b[0;34m(\u001b[0m\u001b[0mcm_train\u001b[0m\u001b[0;34m,\u001b[0m \u001b[0mclasses\u001b[0m\u001b[0;34m=\u001b[0m\u001b[0;34m[\u001b[0m\u001b[0;34m'No'\u001b[0m\u001b[0;34m,\u001b[0m \u001b[0;34m'Yes'\u001b[0m\u001b[0;34m]\u001b[0m\u001b[0;34m,\u001b[0m \u001b[0mtitle\u001b[0m\u001b[0;34m=\u001b[0m\u001b[0;34m'Confusion Matrix - train set'\u001b[0m\u001b[0;34m)\u001b[0m\u001b[0;34m\u001b[0m\u001b[0;34m\u001b[0m\u001b[0m\n\u001b[0m\u001b[1;32m      5\u001b[0m \u001b[0;34m\u001b[0m\u001b[0m\n\u001b[1;32m      6\u001b[0m \u001b[0mplt\u001b[0m\u001b[0;34m.\u001b[0m\u001b[0msubplot\u001b[0m\u001b[0;34m(\u001b[0m\u001b[0;36m1\u001b[0m\u001b[0;34m,\u001b[0m\u001b[0;36m2\u001b[0m\u001b[0;34m,\u001b[0m\u001b[0;36m2\u001b[0m\u001b[0;34m)\u001b[0m\u001b[0;34m\u001b[0m\u001b[0;34m\u001b[0m\u001b[0m\n",
      "\u001b[0;32m/tmp/ipykernel_6570/4267008670.py\u001b[0m in \u001b[0;36mplot_conf_matrix\u001b[0;34m(cm, classes, title, normalize)\u001b[0m\n\u001b[1;32m     15\u001b[0m \u001b[0;34m\u001b[0m\u001b[0m\n\u001b[1;32m     16\u001b[0m     \u001b[0mthresh\u001b[0m \u001b[0;34m=\u001b[0m \u001b[0mcm\u001b[0m\u001b[0;34m.\u001b[0m\u001b[0mmax\u001b[0m\u001b[0;34m(\u001b[0m\u001b[0;34m)\u001b[0m \u001b[0;34m/\u001b[0m \u001b[0;36m2.\u001b[0m\u001b[0;34m\u001b[0m\u001b[0;34m\u001b[0m\u001b[0m\n\u001b[0;32m---> 17\u001b[0;31m     \u001b[0;32mfor\u001b[0m \u001b[0mi\u001b[0m\u001b[0;34m,\u001b[0m \u001b[0mj\u001b[0m \u001b[0;32min\u001b[0m \u001b[0mitertools\u001b[0m\u001b[0;34m.\u001b[0m\u001b[0mproduct\u001b[0m\u001b[0;34m(\u001b[0m\u001b[0mrange\u001b[0m\u001b[0;34m(\u001b[0m\u001b[0mcm\u001b[0m\u001b[0;34m.\u001b[0m\u001b[0mshape\u001b[0m\u001b[0;34m[\u001b[0m\u001b[0;36m0\u001b[0m\u001b[0;34m]\u001b[0m\u001b[0;34m)\u001b[0m\u001b[0;34m,\u001b[0m \u001b[0mrange\u001b[0m\u001b[0;34m(\u001b[0m\u001b[0mcm\u001b[0m\u001b[0;34m.\u001b[0m\u001b[0mshape\u001b[0m\u001b[0;34m[\u001b[0m\u001b[0;36m1\u001b[0m\u001b[0;34m]\u001b[0m\u001b[0;34m)\u001b[0m\u001b[0;34m)\u001b[0m\u001b[0;34m:\u001b[0m\u001b[0;34m\u001b[0m\u001b[0;34m\u001b[0m\u001b[0m\n\u001b[0m\u001b[1;32m     18\u001b[0m         plt.text(j, i, cm[i, j],\n\u001b[1;32m     19\u001b[0m                  \u001b[0mhorizontalalignment\u001b[0m\u001b[0;34m=\u001b[0m\u001b[0;34m\"center\"\u001b[0m\u001b[0;34m,\u001b[0m\u001b[0;34m\u001b[0m\u001b[0;34m\u001b[0m\u001b[0m\n",
      "\u001b[0;31mNameError\u001b[0m: name 'itertools' is not defined"
     ]
    },
    {
     "data": {
      "image/png": "[encoded data removed]",
      "text/plain": [
       "<Figure size 1152x576 with 2 Axes>"
      ]
     },
     "metadata": {
      "needs_background": "light"
     },
     "output_type": "display_data"
    }
   ],
   "source": [
    "# plot confusion matrix\n",
    "plt.figure(figsize=(16,8))\n",
    "plt.subplot(1,2,1)\n",
    "plot_conf_matrix(cm_train, classes=['No', 'Yes'], title='Confusion Matrix - train set')\n",
    "\n",
    "plt.subplot(1,2,2)\n",
    "plot_conf_matrix(cm_test, classes=['No', 'Yes'], title='Confusion Matrix - test set')\n",
    "plt.show()"
   ]
  },
  {
   "cell_type": "code",
   "execution_count": 14,
   "id": "c0b02692",
   "metadata": {
    "scrolled": true
   },
   "outputs": [
    {
     "data": {
      "image/png": "[encoded data removed]",
      "text/plain": [
       "<Figure size 1152x576 with 1 Axes>"
      ]
     },
     "metadata": {
      "needs_background": "light"
     },
     "output_type": "display_data"
    }
   ],
   "source": [
    "# plot decision tree\n",
    "from sklearn.tree import plot_tree, export_graphviz\n",
    "\n",
    "features = X.columns.values.tolist()\n",
    "\n",
    "fig, axes = plt.subplots(nrows=1, ncols=1, figsize=(16,8))\n",
    "plot_tree(tree_clf, feature_names=features, class_names=['No', 'Yes'], filled=True)\n",
    "plt.show()\n",
    "fig.savefig('BloodDonation.png')"
   ]
  },
  {
   "cell_type": "code",
   "execution_count": 15,
   "id": "77bfe761",
   "metadata": {},
   "outputs": [
    {
     "data": {
      "text/plain": [
       "'DecisionTree.dat.pdf'"
      ]
     },
     "execution_count": 15,
     "metadata": {},
     "output_type": "execute_result"
    }
   ],
   "source": [
    "import graphviz\n",
    "\n",
    "graph_data = export_graphviz(tree_clf, feature_names=features, class_names=['No', 'Yes'], filled=True, out_file=None)\n",
    "graph = graphviz.Source(graph_data)\n",
    "graph.render(\"DecisionTree.dat\")"
   ]
  },
  {
   "cell_type": "markdown",
   "id": "fba1a180",
   "metadata": {},
   "source": [
    "## Random Forest"
   ]
  },
  {
   "cell_type": "markdown",
   "id": "f4aa9039",
   "metadata": {},
   "source": [
    "Evaluate a random forest classifier."
   ]
  },
  {
   "cell_type": "code",
   "execution_count": 16,
   "id": "0938c68e",
   "metadata": {},
   "outputs": [
    {
     "data": {
      "text/plain": [
       "RandomForestClassifier(n_estimators=200, n_jobs=-1, random_state=42)"
      ]
     },
     "execution_count": 16,
     "metadata": {},
     "output_type": "execute_result"
    }
   ],
   "source": [
    "# create random forest classifier\n",
    "\n",
    "rnd_f_clf = RandomForestClassifier(n_estimators=200, criterion='gini', n_jobs=-1, random_state=42)\n",
    "rnd_f_clf.fit(X_train, y_train)"
   ]
  },
  {
   "cell_type": "code",
   "execution_count": 17,
   "id": "99a8f312",
   "metadata": {},
   "outputs": [
    {
     "data": {
      "text/plain": [
       "<bound method BaseEstimator.get_params of RandomForestClassifier(n_estimators=200, n_jobs=-1, random_state=42)>"
      ]
     },
     "execution_count": 17,
     "metadata": {},
     "output_type": "execute_result"
    }
   ],
   "source": [
    "# get params for this classifier\n",
    "rnd_f_clf.get_params"
   ]
  },
  {
   "cell_type": "code",
   "execution_count": 18,
   "id": "198cd83a",
   "metadata": {},
   "outputs": [
    {
     "name": "stdout",
     "output_type": "stream",
     "text": [
      "<class 'pandas.core.frame.DataFrame'>\n",
      "RangeIndex: 748 entries, 0 to 747\n",
      "Data columns (total 4 columns):\n",
      " #   Column                 Non-Null Count  Dtype\n",
      "---  ------                 --------------  -----\n",
      " 0   Recency (months)       748 non-null    int64\n",
      " 1   Frequency (times)      748 non-null    int64\n",
      " 2   Monetary (c.c. blood)  748 non-null    int64\n",
      " 3   Time (months)          748 non-null    int64\n",
      "dtypes: int64(4)\n",
      "memory usage: 23.5 KB\n"
     ]
    },
    {
     "data": {
      "text/plain": [
       "array([0.26261344, 0.15457416, 0.14797415, 0.43483825])"
      ]
     },
     "execution_count": 18,
     "metadata": {},
     "output_type": "execute_result"
    }
   ],
   "source": [
    "# evaluate the features\n",
    "X.info()\n",
    "feat_importances = rnd_f_clf.feature_importances_\n",
    "feat_importances"
   ]
  },
  {
   "cell_type": "markdown",
   "id": "04ba03d0",
   "metadata": {},
   "source": [
    "This tells us that Time (months) is the strongest feature."
   ]
  },
  {
   "cell_type": "code",
   "execution_count": 26,
   "id": "4112297d",
   "metadata": {},
   "outputs": [
    {
     "data": {
      "text/plain": [
       "feature 0    0.262613\n",
       "feature 1    0.154574\n",
       "feature 2    0.147974\n",
       "feature 3    0.434838\n",
       "dtype: float64"
      ]
     },
     "execution_count": 26,
     "metadata": {},
     "output_type": "execute_result"
    }
   ],
   "source": [
    "# retrieve impurity-based feature importances\n",
    "feature_names = [f'feature {i}' for i in range(X_train.shape[1])] \n",
    "rnd_f_clf_importances = pd.Series(feat_importances, index=feature_names)\n",
    "rnd_f_clf_importances"
   ]
  },
  {
   "cell_type": "code",
   "execution_count": 39,
   "id": "634130f9",
   "metadata": {},
   "outputs": [
    {
     "data": {
      "text/plain": [
       "Text(0.5, 1.0, 'Feature importances using mean decrease in impurity')"
      ]
     },
     "execution_count": 39,
     "metadata": {},
     "output_type": "execute_result"
    },
    {
     "data": {
      "image/png": "[encoded data removed]",
      "text/plain": [
       "<Figure size 432x288 with 1 Axes>"
      ]
     },
     "metadata": {
      "needs_background": "light"
     },
     "output_type": "display_data"
    }
   ],
   "source": [
    "# plot impurity based feature importances\n",
    "fig, ax = plt.subplots()\n",
    "rnd_f_clf_importances.plot.bar(yerr=1, ax=ax)\n",
    "ax.set_ylabel('Mean decrease in impurity')\n",
    "plt.title('Feature importances using mean decrease in impurity')"
   ]
  },
  {
   "cell_type": "code",
   "execution_count": 40,
   "id": "5892bb15",
   "metadata": {},
   "outputs": [
    {
     "data": {
      "text/plain": [
       "0.7219251336898396"
      ]
     },
     "execution_count": 40,
     "metadata": {},
     "output_type": "execute_result"
    }
   ],
   "source": [
    "# evaluate the model against test data\n",
    "rnd_f_clf.score(X_test, y_test)"
   ]
  },
  {
   "cell_type": "code",
   "execution_count": 41,
   "id": "aa489dda",
   "metadata": {},
   "outputs": [
    {
     "name": "stderr",
     "output_type": "stream",
     "text": [
      "/home/daire/anaconda3/envs/spyder-env/lib/python3.9/site-packages/sklearn/utils/validation.py:70: FutureWarning: Pass fpr=RandomForestClassifier(n_estimators=200, n_jobs=-1, random_state=42), tpr=[[-0.92789873 -0.08820401 -0.08820401 -0.75048336]\n",
      " [ 0.18458823 -0.60230736 -0.60230736 -0.38103151]\n",
      " [-0.68067941  0.42589934  0.42589934 -0.2578809 ]\n",
      " [-0.92789873  0.42589934  0.42589934  0.15262115]\n",
      " [-0.92789873 -0.77367514 -0.77367514 -1.32518623]\n",
      " [-0.68067941 -0.25957179 -0.25957179 -1.24308582]\n",
      " [ 0.55541721 -0.08820401 -0.08820401  1.63042853]\n",
      " [ 1.66790417 -0.60230736 -0.60230736  0.15262115]\n",
      " [-0.68067941  0.25453156  0.25453156  1.13782607]\n",
      " [-0.92789873 -0.08820401 -0.08820401 -0.75048336]\n",
      " [-0.68067941 -0.08820401 -0.08820401  1.63042853]\n",
      " [-0.68067941 -0.08820401 -0.08820401 -0.75048336]\n",
      " [-0.92789873 -0.77367514 -0.77367514 -1.32518623]\n",
      " [-0.92789873  0.9400027   0.9400027   1.83567955]\n",
      " [ 1.42068485 -0.60230736 -0.60230736 -0.54523233]\n",
      " [-0.92789873 -0.25957179 -0.25957179  0.02947053]\n",
      " [-0.92789873 -0.25957179 -0.25957179 -0.83258377]\n",
      " [-1.0515084   0.25453156  0.25453156  0.93257504]\n",
      " [ 1.66790417 -0.77367514 -0.77367514 -0.46313192]\n",
      " [-0.92789873 -0.60230736 -0.60230736 -1.24308582]\n",
      " [ 0.80263654 -0.60230736 -0.60230736  1.46622771]\n",
      " [-0.68067941  0.08316378  0.08316378  0.27577176]\n",
      " [-0.68067941  0.08316378  0.08316378 -0.75048336]\n",
      " [ 3.52204911 -0.77367514 -0.77367514  0.15262115]\n",
      " [-0.68067941 -0.60230736 -0.60230736 -1.24308582]\n",
      " [ 0.55541721 -0.77367514 -0.77367514 -0.83258377]\n",
      " [-0.68067941 -0.60230736 -0.60230736 -1.24308582]\n",
      " [ 0.18458823 -0.60230736 -0.60230736 -0.95573438]\n",
      " [ 1.42068485 -0.60230736 -0.60230736 -0.33998131]\n",
      " [ 0.55541721  0.08316378  0.08316378  0.68627381]\n",
      " [ 0.80263654 -0.25957179 -0.25957179 -0.2578809 ]\n",
      " [ 0.18458823  0.08316378  0.08316378  1.50727791]\n",
      " [-0.92789873 -0.60230736 -0.60230736 -1.24308582]\n",
      " [-0.92789873 -0.77367514 -0.77367514 -1.32518623]\n",
      " [-0.68067941  0.08316378  0.08316378 -0.83258377]\n",
      " [ 0.55541721 -0.25957179 -0.25957179 -0.33998131]\n",
      " [ 1.66790417 -0.25957179 -0.25957179  0.43997258]\n",
      " [ 3.52204911 -0.77367514 -0.77367514  0.15262115]\n",
      " [ 0.18458823 -0.43093957 -0.43093957 -0.46313192]\n",
      " [-0.68067941  0.42589934  0.42589934 -0.01157967]\n",
      " [ 1.42068485 -0.60230736 -0.60230736 -0.46313192]\n",
      " [-0.92789873  1.28273826  1.28273826  1.71252894]\n",
      " [ 0.18458823 -0.25957179 -0.25957179  1.01467545]\n",
      " [-0.68067941 -0.60230736 -0.60230736 -0.21683069]\n",
      " [ 0.55541721  0.08316378  0.08316378 -0.01157967]\n",
      " [-0.68067941 -0.60230736 -0.60230736 -0.46313192]\n",
      " [ 0.55541721 -0.60230736 -0.60230736 -0.83258377]\n",
      " [-0.55706975  6.93787513  6.93787513  2.61563344]\n",
      " [-0.92789873 -0.43093957 -0.43093957 -0.62733274]\n",
      " [-0.92789873 -0.77367514 -0.77367514 -1.32518623]\n",
      " [ 1.66790417 -0.77367514 -0.77367514 -0.46313192]\n",
      " [ 1.42068485 -0.43093957 -0.43093957  0.02947053]\n",
      " [ 1.42068485 -0.77367514 -0.77367514 -0.54523233]\n",
      " [ 0.55541721 -0.77367514 -0.77367514 -0.83258377]\n",
      " [-0.68067941 -0.25957179 -0.25957179 -0.33998131]\n",
      " [ 0.55541721 -0.77367514 -0.77367514 -0.83258377]\n",
      " [-0.68067941  0.76863491  0.76863491 -0.2578809 ]\n",
      " [ 1.66790417 -0.77367514 -0.77367514 -0.46313192]\n",
      " [ 0.80263654 -0.77367514 -0.77367514 -0.75048336]\n",
      " [-0.68067941  1.45410605  1.45410605  0.23472156]\n",
      " [ 0.18458823 -0.77367514 -0.77367514 -0.95573438]\n",
      " [ 0.18458823  0.08316378  0.08316378 -0.2989311 ]\n",
      " [-0.92789873  6.08103621  6.08103621  2.61563344]\n",
      " [-0.30985042  1.45410605  1.45410605  0.5631232 ]\n",
      " [ 0.18458823 -0.77367514 -0.77367514 -0.95573438]\n",
      " [ 0.80263654  0.08316378  0.08316378  1.91777996]\n",
      " [ 0.80263654 -0.25957179 -0.25957179  0.23472156]\n",
      " [-0.68067941 -0.77367514 -0.77367514 -1.24308582]\n",
      " [ 0.80263654 -0.77367514 -0.77367514 -0.75048336]\n",
      " [-0.92789873 -0.77367514 -0.77367514 -1.32518623]\n",
      " [-0.92789873 -0.77367514 -0.77367514 -1.32518623]\n",
      " [-0.68067941 -0.43093957 -0.43093957  1.50727791]\n",
      " [ 0.55541721 -0.60230736 -0.60230736 -0.83258377]\n",
      " [-0.43346009 -0.43093957 -0.43093957 -0.83258377]\n",
      " [ 0.55541721 -0.60230736 -0.60230736 -0.54523233]\n",
      " [-0.92789873  0.9400027   0.9400027  -0.2578809 ]\n",
      " [-0.92789873 -0.77367514 -0.77367514 -1.32518623]\n",
      " [-0.92789873 -0.43093957 -0.43093957 -0.50418213]\n",
      " [ 0.55541721 -0.60230736 -0.60230736 -0.21683069]\n",
      " [ 0.18458823 -0.60230736 -0.60230736 -0.54523233]\n",
      " [ 1.42068485  1.79684161  1.79684161  1.21992648]\n",
      " [-0.68067941 -0.60230736 -0.60230736  0.68627381]\n",
      " [-0.0626311  -0.43093957 -0.43093957  0.72732402]\n",
      " [ 1.29707519  1.45410605  1.45410605  1.4251775 ]\n",
      " [-0.68067941 -0.08820401 -0.08820401  0.97362525]\n",
      " [ 1.66790417  0.08316378  0.08316378  1.46622771]\n",
      " [ 0.18458823 -0.60230736 -0.60230736 -0.95573438]\n",
      " [ 0.06097856 -0.25957179 -0.25957179 -0.75048336]\n",
      " [ 0.55541721 -0.43093957 -0.43093957 -0.54523233]\n",
      " [-0.68067941  1.45410605  1.45410605  2.12303099]\n",
      " [ 0.55541721 -0.60230736 -0.60230736 -0.83258377]\n",
      " [-0.68067941 -0.77367514 -0.77367514 -1.24308582]\n",
      " [-0.0626311  -0.77367514 -0.77367514 -1.03783479]\n",
      " [-0.92789873  0.08316378  0.08316378 -0.2578809 ]\n",
      " [-0.30985042  0.9400027   0.9400027   2.2461816 ]\n",
      " [-0.92789873  1.11137048  1.11137048  0.72732402]\n",
      " [-0.68067941 -0.08820401 -0.08820401 -0.46313192]\n",
      " [ 0.55541721 -0.43093957 -0.43093957  1.83567955]\n",
      " [ 0.55541721 -0.08820401 -0.08820401 -0.33998131]\n",
      " [ 1.54429451 -0.77367514 -0.77367514 -0.50418213]\n",
      " [-0.0626311  -0.77367514 -0.77367514 -1.03783479]\n",
      " [-0.92789873 -0.60230736 -0.60230736 -1.24308582]\n",
      " [ 0.80263654 -0.43093957 -0.43093957 -0.54523233]\n",
      " [ 0.18458823 -0.77367514 -0.77367514 -0.95573438]\n",
      " [-0.92789873 -0.60230736 -0.60230736 -1.24308582]\n",
      " [-0.68067941 -0.60230736 -0.60230736 -1.03783479]\n",
      " [-0.68067941 -0.77367514 -0.77367514 -1.24308582]\n",
      " [ 1.42068485 -0.77367514 -0.77367514 -0.54523233]\n",
      " [ 0.80263654 -0.77367514 -0.77367514 -0.75048336]\n",
      " [ 0.55541721 -0.43093957 -0.43093957 -0.2578809 ]\n",
      " [-0.92789873  0.08316378  0.08316378 -0.50418213]\n",
      " [-0.68067941  0.9400027   0.9400027   1.09677586]\n",
      " [ 0.55541721 -0.25957179 -0.25957179 -0.46313192]\n",
      " [ 0.80263654 -0.43093957 -0.43093957  0.23472156]\n",
      " [ 0.55541721 -0.77367514 -0.77367514 -0.83258377]\n",
      " [ 0.18458823 -0.60230736 -0.60230736 -0.70943315]\n",
      " [-0.92789873 -0.25957179 -0.25957179 -0.95573438]\n",
      " [ 1.66790417  0.08316378  0.08316378  0.43997258]\n",
      " [-0.68067941  0.25453156  0.25453156 -0.09368008]\n",
      " [ 0.55541721 -0.77367514 -0.77367514 -0.83258377]\n",
      " [-0.68067941  0.25453156  0.25453156 -0.50418213]\n",
      " [-0.92789873  0.08316378  0.08316378  0.43997258]\n",
      " [-0.92789873  0.25453156  0.25453156 -0.09368008]\n",
      " [ 1.66790417 -0.60230736 -0.60230736 -0.2578809 ]\n",
      " [-0.92789873 -0.08820401 -0.08820401 -0.75048336]\n",
      " [ 1.66790417 -0.77367514 -0.77367514 -0.46313192]\n",
      " [ 0.43180755 -0.43093957 -0.43093957 -0.75048336]\n",
      " [-0.80428907 -0.25957179 -0.25957179 -0.21683069]\n",
      " [-0.92789873  1.28273826  1.28273826  0.76837422]\n",
      " [-0.68067941 -0.77367514 -0.77367514 -1.24308582]\n",
      " [-0.68067941 -0.77367514 -0.77367514 -1.24308582]\n",
      " [-0.68067941 -0.77367514 -0.77367514 -1.24308582]\n",
      " [-0.68067941 -0.08820401 -0.08820401  0.48102279]\n",
      " [ 0.30819789  0.59726713  0.59726713  1.05572566]\n",
      " [ 1.66790417  2.31094497  2.31094497  1.13782607]\n",
      " [-0.92789873 -0.08820401 -0.08820401 -0.75048336]\n",
      " [-0.68067941 -0.08820401 -0.08820401 -0.05262988]\n",
      " [-1.0515084   0.76863491  0.76863491  0.35787217]\n",
      " [ 1.66790417  0.42589934  0.42589934  0.48102279]\n",
      " [ 0.18458823 -0.08820401 -0.08820401 -0.05262988]\n",
      " [ 0.30819789  0.9400027   0.9400027   0.19367135]\n",
      " [ 0.18458823 -0.08820401 -0.08820401 -0.66838295]\n",
      " [ 1.42068485  0.25453156  0.25453156  0.15262115]\n",
      " [-0.92789873  0.08316378  0.08316378 -0.79153356]\n",
      " [-0.80428907  0.42589934  0.42589934  0.64522361]\n",
      " [ 0.80263654 -0.25957179 -0.25957179 -0.05262988]\n",
      " [ 0.18458823  0.25453156  0.25453156  1.21992648]\n",
      " [ 0.18458823 -0.43093957 -0.43093957  1.71252894]\n",
      " [ 0.18458823  0.25453156  0.25453156  0.11157094]\n",
      " [ 0.80263654 -0.77367514 -0.77367514 -0.75048336]\n",
      " [-0.68067941 -0.77367514 -0.77367514 -1.24308582]\n",
      " [-0.43346009  1.9682094   1.9682094   1.46622771]\n",
      " [-0.30985042 -0.08820401 -0.08820401  0.72732402]\n",
      " [-0.92789873 -0.43093957 -0.43093957 -1.03783479]\n",
      " [-0.92789873 -0.60230736 -0.60230736 -0.95573438]\n",
      " [-0.68067941  0.08316378  0.08316378 -0.46313192]\n",
      " [-0.68067941  0.08316378  0.08316378  0.72732402]\n",
      " [-0.92789873 -0.08820401 -0.08820401 -0.01157967]\n",
      " [-1.17511806 -0.43093957 -0.43093957 -1.24308582]\n",
      " [-0.68067941  1.79684161  1.79684161  0.15262115]\n",
      " [-0.0626311   0.59726713  0.59726713  0.80942443]\n",
      " [ 0.18458823 -0.60230736 -0.60230736  0.72732402]\n",
      " [-0.68067941 -0.60230736 -0.60230736 -1.24308582]\n",
      " [-0.68067941  0.25453156  0.25453156 -0.2578809 ]\n",
      " [-0.92789873 -0.25957179 -0.25957179 -0.46313192]\n",
      " [ 0.55541721  0.25453156  0.25453156  1.54832812]\n",
      " [ 0.55541721 -0.60230736 -0.60230736 -0.83258377]\n",
      " [-0.92789873 -0.60230736 -0.60230736 -0.05262988]\n",
      " [ 3.64565877 -0.77367514 -0.77367514  0.19367135]\n",
      " [ 0.18458823 -0.60230736 -0.60230736 -0.95573438]\n",
      " [-0.92789873  0.25453156  0.25453156 -0.83258377]\n",
      " [-0.92789873  0.9400027   0.9400027   0.23472156]\n",
      " [ 0.55541721  0.25453156  0.25453156  0.52207299]\n",
      " [-1.17511806 -0.60230736 -0.60230736 -1.24308582]\n",
      " [-1.17511806  3.51051945  3.51051945  1.71252894]\n",
      " [-0.92789873  0.08316378  0.08316378  1.67147873]\n",
      " [ 1.42068485 -0.77367514 -0.77367514 -0.54523233]\n",
      " [-0.55706975  3.16778388  3.16778388  1.83567955]\n",
      " [ 0.55541721 -0.25957179 -0.25957179 -0.33998131]\n",
      " [ 1.42068485 -0.77367514 -0.77367514 -0.54523233]\n",
      " [-0.92789873 -0.77367514 -0.77367514 -1.32518623]\n",
      " [ 0.80263654 -0.77367514 -0.77367514 -0.75048336]\n",
      " [-0.68067941 -0.77367514 -0.77367514 -1.24308582]\n",
      " [ 0.55541721 -0.43093957 -0.43093957 -0.13473028]\n",
      " [ 1.66790417 -0.77367514 -0.77367514 -0.46313192]\n",
      " [ 0.80263654  1.79684161  1.79684161  1.75357914]\n",
      " [-0.0626311   0.59726713  0.59726713  0.15262115]], roc_auc=41     0\n",
      "682    0\n",
      "532    0\n",
      "538    1\n",
      "153    1\n",
      "      ..\n",
      "621    0\n",
      "371    0\n",
      "484    0\n",
      "655    0\n",
      "577    0\n",
      "Name: Target, Length: 187, dtype: int64 as keyword args. From version 1.0 (renaming of 0.25) passing these as positional arguments will result in an error\n",
      "  warnings.warn(f\"Pass {args_msg} as keyword args. From version \"\n"
     ]
    }
   ],
   "source": [
    "from sklearn.metrics import RocCurveDisplay\n",
    "\n",
    "rnd_f_clf_score = RocCurveDisplay(rnd_f_clf, X_test, y_test)\n",
    "plt.show()"
   ]
  },
  {
   "cell_type": "markdown",
   "id": "39ad99f0",
   "metadata": {},
   "source": []
  },
  {
   "cell_type": "markdown",
   "id": "d186af7e",
   "metadata": {},
   "source": [
    "## Extra Trees Classifier"
   ]
  },
  {
   "cell_type": "markdown",
   "id": "02b1c730",
   "metadata": {},
   "source": [
    "## Bagging"
   ]
  },
  {
   "cell_type": "markdown",
   "id": "18e97870",
   "metadata": {},
   "source": []
  },
  {
   "cell_type": "markdown",
   "id": "7b671c82",
   "metadata": {},
   "source": [
    "## Boosting"
   ]
  },
  {
   "cell_type": "code",
   "execution_count": null,
   "id": "497857b5",
   "metadata": {},
   "outputs": [],
   "source": []
  },
  {
   "cell_type": "markdown",
   "id": "97dc137e",
   "metadata": {},
   "source": []
  }
 ],
 "metadata": {
  "kernelspec": {
   "display_name": "Python 3 (ipykernel)",
   "language": "python",
   "name": "python3"
  },
  "language_info": {
   "codemirror_mode": {
    "name": "ipython",
    "version": 3
   },
   "file_extension": ".py",
   "mimetype": "text/x-python",
   "name": "python",
   "nbconvert_exporter": "python",
   "pygments_lexer": "ipython3",
   "version": "3.9.7"
  },
  "varInspector": {
   "cols": {
    "lenName": 16,
    "lenType": 16,
    "lenVar": 40
   },
   "kernels_config": {
    "python": {
     "delete_cmd_postfix": "",
     "delete_cmd_prefix": "del ",
     "library": "var_list.py",
     "varRefreshCmd": "print(var_dic_list())"
    },
    "r": {
     "delete_cmd_postfix": ") ",
     "delete_cmd_prefix": "rm(",
     "library": "var_list.r",
     "varRefreshCmd": "cat(var_dic_list()) "
    }
   },
   "types_to_exclude": [
    "module",
    "function",
    "builtin_function_or_method",
    "instance",
    "_Feature"
   ],
   "window_display": false
  }
 },
 "nbformat": 4,
 "nbformat_minor": 5
}
